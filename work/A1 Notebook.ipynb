{
 "cells": [
  {
   "cell_type": "markdown",
   "id": "a8f2272f",
   "metadata": {},
   "source": [
    "#### Assignment: A1\n",
    "\n",
    "#### Student Name 1: Enrique Rivera Jr\n",
    "\n",
    "#### UT EID 1: er34663\n",
    "\n",
    "#### Student Name 2: Christine Kim\n",
    "\n",
    "#### UT EID 2:\n",
    "\n",
    "#### Date Created: 2/2/2025\n",
    "\n",
    "#### Date Last Modified: 2/2/2025\n"
   ]
  },
  {
   "cell_type": "markdown",
   "id": "7e4d1031",
   "metadata": {},
   "source": [
    "##### Ex: 1.53"
   ]
  },
  {
   "cell_type": "markdown",
   "id": "3d81d0b8",
   "metadata": {},
   "source": [
    "![ Question 1.55 ](./imgs_quest/1.53.png)"
   ]
  },
  {
   "cell_type": "code",
   "execution_count": null,
   "id": "6721eefc",
   "metadata": {},
   "outputs": [],
   "source": []
  },
  {
   "cell_type": "markdown",
   "id": "69cb1d6b",
   "metadata": {},
   "source": [
    "##### Ex: 1.54"
   ]
  },
  {
   "cell_type": "markdown",
   "id": "9c3a838c",
   "metadata": {},
   "source": [
    "![ Question 1.55 ](./imgs_quest/1.54.png)"
   ]
  },
  {
   "cell_type": "markdown",
   "id": "5c87f4fb",
   "metadata": {},
   "source": []
  },
  {
   "cell_type": "markdown",
   "id": "7cf81a3c",
   "metadata": {},
   "source": [
    "##### Ex: 1.55"
   ]
  },
  {
   "cell_type": "markdown",
   "id": "a3f8d166",
   "metadata": {},
   "source": [
    "![ Question 1.55 ](./imgs_quest/1.55.png)"
   ]
  },
  {
   "cell_type": "code",
   "execution_count": null,
   "id": "6be1d18b",
   "metadata": {},
   "outputs": [],
   "source": []
  },
  {
   "cell_type": "markdown",
   "id": "95434c77",
   "metadata": {},
   "source": [
    "##### Ex: 1.57"
   ]
  },
  {
   "cell_type": "markdown",
   "id": "b36296df",
   "metadata": {},
   "source": [
    "![ Question 1.55 ](./imgs_quest/1.57.png)"
   ]
  },
  {
   "cell_type": "code",
   "execution_count": null,
   "id": "213f2961",
   "metadata": {},
   "outputs": [],
   "source": []
  }
 ],
 "metadata": {
  "kernelspec": {
   "display_name": "Python 3 (ipykernel)",
   "language": "python",
   "name": "python3"
  },
  "language_info": {
   "codemirror_mode": {
    "name": "ipython",
    "version": 3
   },
   "file_extension": ".py",
   "mimetype": "text/x-python",
   "name": "python",
   "nbconvert_exporter": "python",
   "pygments_lexer": "ipython3",
   "version": "3.11.2"
  }
 },
 "nbformat": 4,
 "nbformat_minor": 5
}
