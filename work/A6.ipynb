{
  "cells": [
    {
      "cell_type": "markdown",
      "id": "a8f2272f",
      "metadata": {
        "id": "a8f2272f"
      },
      "source": [
        "## Assignment: A6\n",
        "\n",
        "#### Student Name 1: Christine Kim\n",
        "\n",
        "#### UT EID 1: cmk3677\n",
        "\n",
        "#### Student Name 2: Enrique Rivera Jr\n",
        "\n",
        "#### UT EID 2: er34663\n",
        "\n",
        "#### Due: 3/24/25\n"
      ]
    },
    {
      "cell_type": "markdown",
      "id": "TJmXKRJwPwa8",
      "metadata": {
        "id": "TJmXKRJwPwa8"
      },
      "source": [
        "Do the following exercises from the book:\n",
        "\n",
        "- 4.35\n",
        "- 4.48\n",
        "- 4.52\n",
        "- 4.86\n"
      ]
    },
    {
      "cell_type": "code",
      "execution_count": 2,
      "id": "CDhlIMFfRtsj",
      "metadata": {
        "id": "CDhlIMFfRtsj"
      },
      "outputs": [],
      "source": [
        "import numpy as np"
      ]
    },
    {
      "cell_type": "markdown",
      "id": "7e4d1031",
      "metadata": {
        "id": "7e4d1031"
      },
      "source": [
        "##### Ex: 4.35\n",
        "# ![4.35](A6/4.35.png)"
      ]
    },
    {
      "cell_type": "markdown",
      "id": "69cb1d6b",
      "metadata": {
        "id": "69cb1d6b"
      },
      "source": [
        "##### Ex: 4.48\n",
        "# ![4.48](A6/4.48.png)\n",
        "#"
      ]
    },
    {
      "cell_type": "markdown",
      "id": "7cf81a3c",
      "metadata": {
        "id": "7cf81a3c"
      },
      "source": [
        "##### Ex: 4.52\n",
        "# ![4.52](A6/4.52.png)\n",
        "#"
      ]
    },
    {
      "cell_type": "markdown",
      "id": "95434c77",
      "metadata": {
        "id": "95434c77"
      },
      "source": [
        "##### Ex: 4.86\n",
        "# ![4.86](A6/4.86.png)\n",
        "#\n",
        "\n"
      ]
    },
    {
      "cell_type": "markdown",
      "id": "ee79a34f",
      "metadata": {},
      "source": []
    }
  ],
  "metadata": {
    "colab": {
      "provenance": []
    },
    "kernelspec": {
      "display_name": "base",
      "language": "python",
      "name": "python3"
    },
    "language_info": {
      "codemirror_mode": {
        "name": "ipython",
        "version": 3
      },
      "file_extension": ".py",
      "mimetype": "text/x-python",
      "name": "python",
      "nbconvert_exporter": "python",
      "pygments_lexer": "ipython3",
      "version": "3.12.4"
    }
  },
  "nbformat": 4,
  "nbformat_minor": 5
}
