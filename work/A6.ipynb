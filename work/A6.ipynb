{
  "cells": [
    {
      "cell_type": "markdown",
      "id": "a8f2272f",
      "metadata": {
        "id": "a8f2272f"
      },
      "source": [
        "## Assignment: A6\n",
        "\n",
        "#### Student Name 1: Christine Kim\n",
        "\n",
        "#### UT EID 1: cmk3677\n",
        "\n",
        "#### Student Name 2: Enrique Rivera Jr\n",
        "\n",
        "#### UT EID 2: er34663\n",
        "\n",
        "#### Due: 3/24/25\n"
      ]
    },
    {
      "cell_type": "markdown",
      "id": "TJmXKRJwPwa8",
      "metadata": {
        "id": "TJmXKRJwPwa8"
      },
      "source": [
        "Do the following exercises from the book:\n",
        "\n",
        "- 4.35\n",
        "- 4.48\n",
        "- 4.52\n",
        "- 4.86\n"
      ]
    },
    {
      "cell_type": "code",
      "execution_count": 2,
      "id": "CDhlIMFfRtsj",
      "metadata": {
        "id": "CDhlIMFfRtsj"
      },
      "outputs": [],
      "source": [
        "import numpy as np"
      ]
    },
    {
      "cell_type": "markdown",
      "id": "7e4d1031",
      "metadata": {
        "id": "7e4d1031"
      },
      "source": [
        "##### Ex: 4.35\n",
        "# ![4.35](A6/4.35.png)"
      ]
    },
    {
      "cell_type": "code",
      "execution_count": 6,
      "id": "eac4c25c",
      "metadata": {},
      "outputs": [
        {
          "name": "stdout",
          "output_type": "stream",
          "text": [
            "L =\n",
            " [[ 1.          0.          0.        ]\n",
            " [ 0.66666667  1.          0.        ]\n",
            " [ 1.66666667 -2.66666667  1.        ]]\n",
            "U =\n",
            " [[  3.           6.           8.        ]\n",
            " [  0.           3.          -6.33333333]\n",
            " [  0.           0.         -28.22222222]]\n",
            "Solution x = [ 1.  0. -2.]\n"
          ]
        }
      ],
      "source": [
        "# Matrix A and vector b as NumPy arrays\n",
        "A = np.array([[3, 6,  8],\n",
        "              [2, 7, -1],\n",
        "              [5, 2,  2]], dtype=float)\n",
        "b = np.array([-13, 4, 1], dtype=float)\n",
        "\n",
        "# We can implement our own LU decomposition or do it by hand.\n",
        "# For illustration, here's a naive code for an LU factor (without pivoting):\n",
        "\n",
        "def lu_no_pivot(A):\n",
        "    n = A.shape[0]\n",
        "    L = np.eye(n, dtype=float)\n",
        "    U = A.copy().astype(float)\n",
        "\n",
        "    for k in range(n-1):\n",
        "        for i in range(k+1, n):\n",
        "            # Multiplier\n",
        "            L[i,k] = U[i,k] / U[k,k]\n",
        "            # Eliminate in U\n",
        "            U[i, k:] = U[i, k:] - L[i,k]*U[k, k:]\n",
        "    return L, U\n",
        "\n",
        "L, U = lu_no_pivot(A)\n",
        "\n",
        "# Forward solve (Ly = b)\n",
        "def forward_solve(L, b):\n",
        "    n = L.shape[0]\n",
        "    y = np.zeros_like(b)\n",
        "    for i in range(n):\n",
        "        y[i] = b[i] - np.dot(L[i,:i], y[:i])\n",
        "    return y\n",
        "\n",
        "# Back solve (Ux = y)\n",
        "def back_solve(U, y):\n",
        "    n = U.shape[0]\n",
        "    x = np.zeros_like(y)\n",
        "    for i in reversed(range(n)):\n",
        "        x[i] = (y[i] - np.dot(U[i,i+1:], x[i+1:])) / U[i,i]\n",
        "    return x\n",
        "\n",
        "y = forward_solve(L,b)\n",
        "x = back_solve(U,y)\n",
        "\n",
        "print(\"L =\\n\", L)\n",
        "print(\"U =\\n\", U)\n",
        "print(\"Solution x =\", x)\n"
      ]
    },
    {
      "cell_type": "markdown",
      "id": "69cb1d6b",
      "metadata": {
        "id": "69cb1d6b"
      },
      "source": [
        "##### Ex: 4.48\n",
        "# ![4.48](A6/4.48.png)\n",
        "#"
      ]
    },
    {
      "cell_type": "code",
      "execution_count": 5,
      "id": "6ba0d97e",
      "metadata": {},
      "outputs": [
        {
          "name": "stdout",
          "output_type": "stream",
          "text": [
            "Q =\n",
            " [[-0.12309149  0.90453403  0.40824829]\n",
            " [-0.49236596  0.30151134 -0.81649658]\n",
            " [-0.86164044 -0.30151134  0.40824829]]\n",
            "R =\n",
            " [[-8.1240384  -9.6011363  -3.32347026]\n",
            " [ 0.          0.90453403  4.52267017]\n",
            " [ 0.          0.         -3.67423461]]\n",
            "Q^T b = [-1.84637236  0.30151134  1.22474487]\n",
            "Solution x = [-2.          2.         -0.33333333]\n"
          ]
        }
      ],
      "source": [
        "A = np.array([[1,2,3],\n",
        "              [4,5,6],\n",
        "              [7,8,0]], dtype=float)\n",
        "b = np.array([1,0,2], dtype=float)\n",
        "\n",
        "# (a) Compute the QR factorization of A\n",
        "Q, R = np.linalg.qr(A)   # Q is orthonormal, R is upper triangular\n",
        "\n",
        "# (b) Form y = Q^T b\n",
        "y = Q.T @ b\n",
        "\n",
        "# (c) Solve R x = y (back substitution or np.linalg.solve, since R is square/upper‐triangular)\n",
        "x = np.linalg.solve(R, y)\n",
        "\n",
        "print(\"Q =\\n\", Q)\n",
        "print(\"R =\\n\", R)\n",
        "print(\"Q^T b =\", y)\n",
        "print(\"Solution x =\", x)\n"
      ]
    },
    {
      "cell_type": "markdown",
      "id": "7cf81a3c",
      "metadata": {
        "id": "7cf81a3c"
      },
      "source": [
        "##### Ex: 4.52\n",
        "# ![4.52](A6/4.52.png)\n",
        "#"
      ]
    },
    {
      "cell_type": "code",
      "execution_count": 8,
      "id": "a2f72820",
      "metadata": {},
      "outputs": [
        {
          "name": "stdout",
          "output_type": "stream",
          "text": [
            "Fitted coefficients:\n",
            "  a = 13.029137529137511\n",
            "  b = -12.193193473193352\n",
            "  c = 15.23706293706265\n"
          ]
        },
        {
          "data": {
            "image/png": "[encoded data removed]",
            "text/plain": [
              "<Figure size 800x500 with 1 Axes>"
            ]
          },
          "metadata": {},
          "output_type": "display_data"
        }
      ],
      "source": [
        "import matplotlib.pyplot as plt\n",
        "\n",
        "# 1) The data\n",
        "x_data = np.array([0,1,2,3,4,5,6,7,8,9,10], dtype=float)\n",
        "y_data = np.array([-6.8, 11.8, 50.6, 94, 224.3, 301.7, \n",
        "                   499.2, 454.7, 578.5, 1102, 1203.2], dtype=float)\n",
        "\n",
        "# 2) Build the A matrix for a quadratic fit: [x^2, x, 1]\n",
        "A = np.column_stack((x_data**2, x_data, np.ones_like(x_data)))\n",
        "\n",
        "# 3) Solve the least squares problem A*[a,b,c]^T ≈ y\n",
        "#    np.linalg.lstsq returns (coeffs, residuals, rank, singular_vals)\n",
        "coeffs, *_ = np.linalg.lstsq(A, y_data, rcond=None)\n",
        "a, b, c = coeffs\n",
        "\n",
        "print(\"Fitted coefficients:\")\n",
        "print(f\"  a = {a}\")\n",
        "print(f\"  b = {b}\")\n",
        "print(f\"  c = {c}\")\n",
        "\n",
        "# 4) Plot the data and the fit\n",
        "#    Make a smooth x-array for plotting the quadratic\n",
        "x_plot = np.linspace(x_data.min(), x_data.max(), 200)\n",
        "y_plot = a*(x_plot**2) + b*x_plot + c\n",
        "\n",
        "plt.figure(figsize=(8,5))\n",
        "plt.scatter(x_data, y_data, color='red', label='Data')\n",
        "plt.plot(x_plot, y_plot, 'b-', label='Fitted Quadratic')\n",
        "plt.xlabel('x')\n",
        "plt.ylabel('y')\n",
        "plt.title('Quadratic Least-Squares Fit')\n",
        "plt.legend()\n",
        "plt.show()\n"
      ]
    },
    {
      "cell_type": "markdown",
      "id": "95434c77",
      "metadata": {
        "id": "95434c77"
      },
      "source": [
        "##### Ex: 4.86\n",
        "# ![4.86](A6/4.86.png)\n",
        "#\n",
        "\n"
      ]
    },
    {
      "cell_type": "code",
      "execution_count": 9,
      "id": "819a24f0",
      "metadata": {},
      "outputs": [
        {
          "name": "stdout",
          "output_type": "stream",
          "text": [
            "Approx. largest eigenvalue = 15.816774904550828\n",
            "Corresponding eigenvector = [0.29492336 0.75736962 0.25016262 0.52614649]\n"
          ]
        }
      ],
      "source": [
        "import numpy as np\n",
        "\n",
        "def power_method(A, max_iters=1000, tol=1e-10):\n",
        "    \"\"\"\n",
        "    Returns an approximation of the largest eigenvalue of A\n",
        "    and the corresponding eigenvector via the Power Method.\n",
        "    \n",
        "    Parameters\n",
        "    ----------\n",
        "    A : numpy.ndarray\n",
        "        Square matrix for which we seek the dominant eigenvalue/eigenvector\n",
        "    max_iters : int\n",
        "        Maximum number of iterations to perform\n",
        "    tol : float\n",
        "        Convergence tolerance based on change in eigenvalue estimates\n",
        "        \n",
        "    Returns\n",
        "    -------\n",
        "    (lambda_est, x_est) : (float, numpy.ndarray)\n",
        "        Approximate largest eigenvalue and corresponding unit eigenvector\n",
        "    \"\"\"\n",
        "\n",
        "    n = A.shape[0]\n",
        "    # 1) Start with a random initial vector and normalize it\n",
        "    x = np.random.rand(n)\n",
        "    x = x / np.linalg.norm(x)\n",
        "    \n",
        "    lambda_old = 0.0\n",
        "    \n",
        "    for _ in range(max_iters):\n",
        "        # 2) Multiply by A\n",
        "        Ax = A @ x\n",
        "        \n",
        "        # 3) Estimate the eigenvalue via Rayleigh quotient\n",
        "        lambda_new = x @ Ax   # same as np.dot(x, Ax)\n",
        "        \n",
        "        # 4) Normalize Ax to get the next vector\n",
        "        Ax_norm = np.linalg.norm(Ax)\n",
        "        if Ax_norm == 0:\n",
        "            # A somehow annihilated x (unlikely if A is not singular),\n",
        "            # but just in case:\n",
        "            break\n",
        "        x_new = Ax / Ax_norm\n",
        "        \n",
        "        # 5) Check for convergence\n",
        "        if abs(lambda_new - lambda_old) < tol:\n",
        "            return (lambda_new, x_new)\n",
        "        \n",
        "        x = x_new\n",
        "        lambda_old = lambda_new\n",
        "    \n",
        "    # If we exit the loop, we return the last estimate\n",
        "    return (lambda_old, x)\n",
        "\n",
        "# Example usage on the given matrix A\n",
        "A = np.array([\n",
        "    [1, 2, 3, 4],\n",
        "    [5, 6, 7, 8],\n",
        "    [9, 0, 1, 2],\n",
        "    [3, 4, 5, 6]\n",
        "], dtype=float)\n",
        "\n",
        "largest_val, eigenvec = power_method(A)\n",
        "print(\"Approx. largest eigenvalue =\", largest_val)\n",
        "print(\"Corresponding eigenvector =\", eigenvec)\n"
      ]
    },
    {
      "cell_type": "code",
      "execution_count": null,
      "id": "4bd0804d",
      "metadata": {},
      "outputs": [],
      "source": []
    }
  ],
  "metadata": {
    "colab": {
      "provenance": []
    },
    "kernelspec": {
      "display_name": "base",
      "language": "python",
      "name": "python3"
    },
    "language_info": {
      "codemirror_mode": {
        "name": "ipython",
        "version": 3
      },
      "file_extension": ".py",
      "mimetype": "text/x-python",
      "name": "python",
      "nbconvert_exporter": "python",
      "pygments_lexer": "ipython3",
      "version": "3.12.4"
    }
  },
  "nbformat": 4,
  "nbformat_minor": 5
}
