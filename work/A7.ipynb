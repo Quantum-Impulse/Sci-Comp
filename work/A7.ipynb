{
  "cells": [
    {
      "cell_type": "markdown",
      "id": "a8f2272f",
      "metadata": {
        "id": "a8f2272f"
      },
      "source": [
        "## Assignment: A7\n",
        "\n",
        "#### Student Name 1: Christine Kim\n",
        "\n",
        "#### UT EID 1: cmk3677\n",
        "\n",
        "#### Student Name 2: Enrique Rivera Jr\n",
        "\n",
        "#### UT EID 2: er34663\n",
        "\n",
        "#### Due: 4/14/25\n"
      ]
    },
    {
      "cell_type": "markdown",
      "id": "TJmXKRJwPwa8",
      "metadata": {
        "id": "TJmXKRJwPwa8"
      },
      "source": [
        "Do the following exercises from the book:\n",
        "\n",
        "- 5.4\n",
        "- 5.5\n",
        "- 5.6\n",
        "- 5.8\n"
      ]
    },
    {
      "cell_type": "code",
      "execution_count": 2,
      "id": "CDhlIMFfRtsj",
      "metadata": {
        "id": "CDhlIMFfRtsj"
      },
      "outputs": [],
      "source": [
        "import numpy as np"
      ]
    },
    {
      "cell_type": "markdown",
      "id": "7e4d1031",
      "metadata": {
        "id": "7e4d1031"
      },
      "source": [
        "##### Ex: 5.4\n",
        "# ![5.4](A7/5.4.png)"
      ]
    },
    {
      "cell_type": "code",
      "execution_count": null,
      "id": "782cf6c1",
      "metadata": {},
      "outputs": [],
      "source": []
    },
    {
      "cell_type": "markdown",
      "id": "5e65128b",
      "metadata": {},
      "source": [
        "##### Ex: 5.5\n",
        "# ![5.5](A7/5.5.png) "
      ]
    },
    {
      "cell_type": "code",
      "execution_count": null,
      "id": "967e71a0",
      "metadata": {},
      "outputs": [],
      "source": []
    },
    {
      "cell_type": "markdown",
      "id": "e1376880",
      "metadata": {},
      "source": [
        "##### Ex: 5.6\n",
        "# ![5.6 ](A7/5.6.png)"
      ]
    },
    {
      "cell_type": "code",
      "execution_count": null,
      "id": "87634b24",
      "metadata": {},
      "outputs": [],
      "source": []
    },
    {
      "cell_type": "markdown",
      "id": "f55b684c",
      "metadata": {},
      "source": [
        "##### Ex: 5.8\n",
        "# ![5.8](A7/5.8.png) "
      ]
    },
    {
      "cell_type": "code",
      "execution_count": null,
      "id": "067108c4",
      "metadata": {},
      "outputs": [],
      "source": []
    }
  ],
  "metadata": {
    "colab": {
      "provenance": []
    },
    "kernelspec": {
      "display_name": "base",
      "language": "python",
      "name": "python3"
    },
    "language_info": {
      "codemirror_mode": {
        "name": "ipython",
        "version": 3
      },
      "file_extension": ".py",
      "mimetype": "text/x-python",
      "name": "python",
      "nbconvert_exporter": "python",
      "pygments_lexer": "ipython3",
      "version": "3.12.4"
    }
  },
  "nbformat": 4,
  "nbformat_minor": 5
}
