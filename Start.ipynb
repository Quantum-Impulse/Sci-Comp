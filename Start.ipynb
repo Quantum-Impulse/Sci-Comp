{
 "cells": [
  {
   "cell_type": "code",
   "execution_count": 1,
   "metadata": {},
   "outputs": [
    {
     "ename": "KeyboardInterrupt",
     "evalue": "",
     "output_type": "error",
     "traceback": [
      "\u001b[0;31m---------------------------------------------------------------------------\u001b[0m",
      "\u001b[0;31mKeyboardInterrupt\u001b[0m                         Traceback (most recent call last)",
      "Cell \u001b[0;32mIn[1], line 21\u001b[0m\n\u001b[1;32m     16\u001b[0m         num \u001b[38;5;241m=\u001b[39m num \u001b[38;5;241m/\u001b[39m\u001b[38;5;241m/\u001b[39m base\n\u001b[1;32m     19\u001b[0m     \u001b[38;5;28mprint\u001b[39m(s)\n\u001b[0;32m---> 21\u001b[0m main()\n",
      "Cell \u001b[0;32mIn[1], line 4\u001b[0m, in \u001b[0;36mmain\u001b[0;34m()\u001b[0m\n\u001b[1;32m      3\u001b[0m \u001b[38;5;28;01mdef\u001b[39;00m \u001b[38;5;21mmain\u001b[39m():\n\u001b[0;32m----> 4\u001b[0m     line \u001b[38;5;241m=\u001b[39m sys\u001b[38;5;241m.\u001b[39mstdin\u001b[38;5;241m.\u001b[39mreadline()\u001b[38;5;241m.\u001b[39mstrip()\n\u001b[1;32m      6\u001b[0m     line \u001b[38;5;241m=\u001b[39m line\u001b[38;5;241m.\u001b[39mrstrip()\n\u001b[1;32m      8\u001b[0m     line \u001b[38;5;241m=\u001b[39m line\u001b[38;5;241m.\u001b[39msplit()\n",
      "\u001b[0;31mKeyboardInterrupt\u001b[0m: "
     ]
    }
   ],
   "source": [
    "import sys\n",
    "\n",
    "def main():\n",
    "    line = sys.stdin.readline().strip()\n",
    "\n",
    "    line = line.rstrip()\n",
    "\n",
    "    line = line.split()\n",
    "\n",
    "    num = int(line[0])\n",
    "    base = int(line[1])\n",
    "\n",
    "    s = ''\n",
    "    while num > 0:\n",
    "        s = str(num % base) + s\n",
    "        num = num // base\n",
    "\n",
    "    \n",
    "    print(s)\n",
    "main()\n",
    "    \n",
    "\n"
   ]
  },
  {
   "cell_type": "code",
   "execution_count": 11,
   "metadata": {},
   "outputs": [
    {
     "name": "stdout",
     "output_type": "stream",
     "text": [
      "17\n",
      "97\n"
     ]
    }
   ],
   "source": [
    "# collatz sequence length function\n",
    "\n",
    "def collatz(n):\n",
    "    count = 1\n",
    "    while n != 1:\n",
    "        if n % 2 == 0:\n",
    "            n = n // 2\n",
    "        else:\n",
    "            n = 3*n + 1\n",
    "        count += 1\n",
    "    return count\n",
    "\n",
    "print(collatz(7)) # 7)\n",
    "\n",
    "# find the number that has the longest collatz sequence length\n",
    "def long__collatz(n):\n",
    "    longest = 0\n",
    "    num = 0\n",
    "    for i in range(1, n):\n",
    "        if collatz(i) > longest:\n",
    "            longest = collatz(i)\n",
    "            num = i\n",
    "    return num\n",
    "\n",
    "print(long__collatz(100)) # 837799\n",
    "\n",
    "\n"
   ]
  },
  {
   "cell_type": "code",
   "execution_count": null,
   "metadata": {},
   "outputs": [],
   "source": []
  }
 ],
 "metadata": {
  "kernelspec": {
   "display_name": "base",
   "language": "python",
   "name": "python3"
  },
  "language_info": {
   "name": "python",
   "version": "3.12.4"
  }
 },
 "nbformat": 4,
 "nbformat_minor": 2
}
